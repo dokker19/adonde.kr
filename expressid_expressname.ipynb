{
  "nbformat": 4,
  "nbformat_minor": 0,
  "metadata": {
    "colab": {
      "name": "expressid_expressname.ipynb",
      "provenance": [],
      "authorship_tag": "ABX9TyOYd669VP/puQrxJfbqLZ3t",
      "include_colab_link": true
    },
    "kernelspec": {
      "name": "python3",
      "display_name": "Python 3"
    },
    "language_info": {
      "name": "python"
    }
  },
  "cells": [
    {
      "cell_type": "markdown",
      "metadata": {
        "id": "view-in-github",
        "colab_type": "text"
      },
      "source": [
        "<a href=\"https://colab.research.google.com/github/forrestpark/adonde.kr/blob/main/expressid_expressname.ipynb\" target=\"_parent\"><img src=\"https://colab.research.google.com/assets/colab-badge.svg\" alt=\"Open In Colab\"/></a>"
      ]
    },
    {
      "cell_type": "code",
      "metadata": {
        "colab": {
          "base_uri": "https://localhost:8080/"
        },
        "id": "nDVXdsLBqjmJ",
        "outputId": "250b0661-584d-4605-fc5a-963a4fb7b52a"
      },
      "source": [
        "pip install xmltodict"
      ],
      "execution_count": 2,
      "outputs": [
        {
          "output_type": "stream",
          "text": [
            "Collecting xmltodict\n",
            "  Downloading https://files.pythonhosted.org/packages/28/fd/30d5c1d3ac29ce229f6bdc40bbc20b28f716e8b363140c26eff19122d8a5/xmltodict-0.12.0-py2.py3-none-any.whl\n",
            "Installing collected packages: xmltodict\n",
            "Successfully installed xmltodict-0.12.0\n"
          ],
          "name": "stdout"
        }
      ]
    },
    {
      "cell_type": "code",
      "metadata": {
        "id": "9HmpI67h5zhJ"
      },
      "source": [
        "import requests, xmltodict\n",
        "import pandas as pd\n"
      ],
      "execution_count": 3,
      "outputs": []
    },
    {
      "cell_type": "code",
      "metadata": {
        "id": "3_riPY-e50o7"
      },
      "source": [
        "key = \"YIG48RZ4OVNbB15tDMQv6%2FS4eDc38APYyyBkaUCB%2BnrBCbtm7l1hpnNDmVQ1p4RXGoQC7GYdXhpYgoPn%2FIzZww%3D%3D\"\n",
        "url = \"http://openapi.tago.go.kr/openapi/service/ExpBusInfoService/getExpBusTrminlList?numOfRows=1000&pageNo=1&terminalNm=&ServiceKey=YIG48RZ4OVNbB15tDMQv6%2FS4eDc38APYyyBkaUCB%2BnrBCbtm7l1hpnNDmVQ1p4RXGoQC7GYdXhpYgoPn%2FIzZww%3D%3D\""
      ],
      "execution_count": 4,
      "outputs": []
    },
    {
      "cell_type": "code",
      "metadata": {
        "colab": {
          "base_uri": "https://localhost:8080/"
        },
        "id": "pTr3SGUY6Ciu",
        "outputId": "7c088192-8dd8-4fce-e921-f01050d11e31"
      },
      "source": [
        "content = requests.get(url).content\n",
        "dict = xmltodict.parse(content)\n",
        "# print(dict['response'])"
      ],
      "execution_count": 5,
      "outputs": [
        {
          "output_type": "stream",
          "text": [
            "OrderedDict([('response', OrderedDict([('header', OrderedDict([('resultCode', '00'), ('resultMsg', 'NORMAL SERVICE.')])), ('body', OrderedDict([('items', OrderedDict([('item', [OrderedDict([('terminalId', 'NAEK010'), ('terminalNm', '서울경부')]), OrderedDict([('terminalId', 'NAEK020'), ('terminalNm', '센트럴시티(서울)')]), OrderedDict([('terminalId', 'NAEK030'), ('terminalNm', '동서울')]), OrderedDict([('terminalId', 'NAEK032'), ('terminalNm', '동서울')]), OrderedDict([('terminalId', 'NAEK040'), ('terminalNm', '상봉')]), OrderedDict([('terminalId', 'NAEK100'), ('terminalNm', '인천')]), OrderedDict([('terminalId', 'NAEK101'), ('terminalNm', '부천')]), OrderedDict([('terminalId', 'NAEK105'), ('terminalNm', '인천공항T1')]), OrderedDict([('terminalId', 'NAEK109'), ('terminalNm', '서수원')]), OrderedDict([('terminalId', 'NAEK110'), ('terminalNm', '수원')]), OrderedDict([('terminalId', 'NAEK111'), ('terminalNm', '용인신갈')]), OrderedDict([('terminalId', 'NAEK112'), ('terminalNm', '영통')]), OrderedDict([('terminalId', 'NAEK114'), ('terminalNm', '신갈시외')]), OrderedDict([('terminalId', 'NAEK115'), ('terminalNm', '고양화정')]), OrderedDict([('terminalId', 'NAEK116'), ('terminalNm', '고양백석')]), OrderedDict([('terminalId', 'NAEK117'), ('terminalNm', '인천공항T2')]), OrderedDict([('terminalId', 'NAEK118'), ('terminalNm', '죽전')]), OrderedDict([('terminalId', 'NAEK119'), ('terminalNm', '신갈영덕')]), OrderedDict([('terminalId', 'NAEK120'), ('terminalNm', '성남(분당)')]), OrderedDict([('terminalId', 'NAEK125'), ('terminalNm', '광명(KTX역)')]), OrderedDict([('terminalId', 'NAEK126'), ('terminalNm', '광명(철산역)')]), OrderedDict([('terminalId', 'NAEK127'), ('terminalNm', '오산')]), OrderedDict([('terminalId', 'NAEK130'), ('terminalNm', '안성')]), OrderedDict([('terminalId', 'NAEK131'), ('terminalNm', '안성중대')]), OrderedDict([('terminalId', 'NAEK132'), ('terminalNm', '안성풍림')]), OrderedDict([('terminalId', 'NAEK133'), ('terminalNm', '안성공도')]), OrderedDict([('terminalId', 'NAEK134'), ('terminalNm', '안성한경')]), OrderedDict([('terminalId', 'NAEK137'), ('terminalNm', '안성대림')]), OrderedDict([('terminalId', 'NAEK138'), ('terminalNm', '안성회관')]), OrderedDict([('terminalId', 'NAEK139'), ('terminalNm', '여주대')]), OrderedDict([('terminalId', 'NAEK140'), ('terminalNm', '여주')]), OrderedDict([('terminalId', 'NAEK146'), ('terminalNm', '포천')]), OrderedDict([('terminalId', 'NAEK147'), ('terminalNm', '신철원')]), OrderedDict([('terminalId', 'NAEK148'), ('terminalNm', '철원')]), OrderedDict([('terminalId', 'NAEK149'), ('terminalNm', '용인유림')]), OrderedDict([('terminalId', 'NAEK150'), ('terminalNm', '용인')]), OrderedDict([('terminalId', 'NAEK160'), ('terminalNm', '이천')]), OrderedDict([('terminalId', 'NAEK169'), ('terminalNm', '구리')]), OrderedDict([('terminalId', 'NAEK170'), ('terminalNm', '의정부')]), OrderedDict([('terminalId', 'NAEK171'), ('terminalNm', '이천마장')]), OrderedDict([('terminalId', 'NAEK172'), ('terminalNm', '이천부발(신하리)')]), OrderedDict([('terminalId', 'NAEK173'), ('terminalNm', '의정부')]), OrderedDict([('terminalId', 'NAEK174'), ('terminalNm', '평택용이동')]), OrderedDict([('terminalId', 'NAEK175'), ('terminalNm', '평택대')]), OrderedDict([('terminalId', 'NAEK176'), ('terminalNm', '안중오거리')]), OrderedDict([('terminalId', 'NAEK177'), ('terminalNm', '안중')]), OrderedDict([('terminalId', 'NAEK180'), ('terminalNm', '평택')]), OrderedDict([('terminalId', 'NAEK186'), ('terminalNm', '운천')]), OrderedDict([('terminalId', 'NAEK190'), ('terminalNm', '안산')]), OrderedDict([('terminalId', 'NAEK195'), ('terminalNm', '시흥(시화)')]), OrderedDict([('terminalId', 'NAEK200'), ('terminalNm', '강릉')]), OrderedDict([('terminalId', 'NAEK210'), ('terminalNm', '동해')]), OrderedDict([('terminalId', 'NAEK219'), ('terminalNm', '강원대(삼척)')]), OrderedDict([('terminalId', 'NAEK220'), ('terminalNm', '삼척')]), OrderedDict([('terminalId', 'NAEK230'), ('terminalNm', '속초')]), OrderedDict([('terminalId', 'NAEK238'), ('terminalNm', '횡성(휴)하행')]), OrderedDict([('terminalId', 'NAEK239'), ('terminalNm', '횡성(휴)상행')]), OrderedDict([('terminalId', 'NAEK240'), ('terminalNm', '원주')]), OrderedDict([('terminalId', 'NAEK244'), ('terminalNm', '원주혁신')]), OrderedDict([('terminalId', 'NAEK245'), ('terminalNm', '원주문막')]), OrderedDict([('terminalId', 'NAEK246'), ('terminalNm', '원주기업')]), OrderedDict([('terminalId', 'NAEK250'), ('terminalNm', '춘천')]), OrderedDict([('terminalId', 'NAEK270'), ('terminalNm', '양양')]), OrderedDict([('terminalId', 'NAEK272'), ('terminalNm', '영월')]), OrderedDict([('terminalId', 'NAEK300'), ('terminalNm', '대전복합')]), OrderedDict([('terminalId', 'NAEK305'), ('terminalNm', '대전청사')]), OrderedDict([('terminalId', 'NAEK307'), ('terminalNm', '대전도룡')]), OrderedDict([('terminalId', 'NAEK310'), ('terminalNm', '천안')]), OrderedDict([('terminalId', 'NAEK312'), ('terminalNm', '당진')]), OrderedDict([('terminalId', 'NAEK315'), ('terminalNm', '정안(휴)하행')]), OrderedDict([('terminalId', 'NAEK316'), ('terminalNm', '정안(휴)상행')]), OrderedDict([('terminalId', 'NAEK320'), ('terminalNm', '공주')]), OrderedDict([('terminalId', 'NAEK324'), ('terminalNm', '인삼랜드(휴)하행')]), OrderedDict([('terminalId', 'NAEK325'), ('terminalNm', '인삼랜드(휴)상행')]), OrderedDict([('terminalId', 'NAEK330'), ('terminalNm', '금산')]), OrderedDict([('terminalId', 'NAEK337'), ('terminalNm', '배방정류소')]), OrderedDict([('terminalId', 'NAEK338'), ('terminalNm', '아산테크노밸리')]), OrderedDict([('terminalId', 'NAEK340'), ('terminalNm', '아산온양')]), OrderedDict([('terminalId', 'NAEK341'), ('terminalNm', '아산서부')]), OrderedDict([('terminalId', 'NAEK342'), ('terminalNm', '아산탕정')]), OrderedDict([('terminalId', 'NAEK343'), ('terminalNm', '천안아산역')]), OrderedDict([('terminalId', 'NAEK344'), ('terminalNm', '아산둔포')]), OrderedDict([('terminalId', 'NAEK346'), ('terminalNm', '천안공단')]), OrderedDict([('terminalId', 'NAEK347'), ('terminalNm', '선문대')]), OrderedDict([('terminalId', 'NAEK349'), ('terminalNm', '탕정삼성LCD')]), OrderedDict([('terminalId', 'NAEK350'), ('terminalNm', '조치원')]), OrderedDict([('terminalId', 'NAEK351'), ('terminalNm', '세종연구단지')]), OrderedDict([('terminalId', 'NAEK352'), ('terminalNm', '세종시')]), OrderedDict([('terminalId', 'NAEK353'), ('terminalNm', '세종청사')]), OrderedDict([('terminalId', 'NAEK354'), ('terminalNm', '홍대조치원')]), OrderedDict([('terminalId', 'NAEK355'), ('terminalNm', '고대조치원')]), OrderedDict([('terminalId', 'NAEK358'), ('terminalNm', '세종연구단지')]), OrderedDict([('terminalId', 'NAEK360'), ('terminalNm', '유성')]), OrderedDict([('terminalId', 'NAEK361'), ('terminalNm', '세종국무조정실')]), OrderedDict([('terminalId', 'NAEK362'), ('terminalNm', '세종시청')]), OrderedDict([('terminalId', 'NAEK370'), ('terminalNm', '논산')]), OrderedDict([('terminalId', 'NAEK380'), ('terminalNm', '연무대')]), OrderedDict([('terminalId', 'NAEK388'), ('terminalNm', '당진기지시')]), OrderedDict([('terminalId', 'NAEK389'), ('terminalNm', '홍성')]), OrderedDict([('terminalId', 'NAEK390'), ('terminalNm', '내포')]), OrderedDict([('terminalId', 'NAEK391'), ('terminalNm', '청양')]), OrderedDict([('terminalId', 'NAEK392'), ('terminalNm', '정산')]), OrderedDict([('terminalId', 'NAEK393'), ('terminalNm', '서산')]), OrderedDict([('terminalId', 'NAEK394'), ('terminalNm', '태안')]), OrderedDict([('terminalId', 'NAEK395'), ('terminalNm', '보령')]), OrderedDict([('terminalId', 'NAEK396'), ('terminalNm', '안면도')]), OrderedDict([('terminalId', 'NAEK397'), ('terminalNm', '창기리')]), OrderedDict([('terminalId', 'NAEK398'), ('terminalNm', '예산')]), OrderedDict([('terminalId', 'NAEK399'), ('terminalNm', '덕산스파')]), OrderedDict([('terminalId', 'NAEK400'), ('terminalNm', '청주(고속)')]), OrderedDict([('terminalId', 'NAEK401'), ('terminalNm', '청주(센트럴)')]), OrderedDict([('terminalId', 'NAEK405'), ('terminalNm', '북청주')]), OrderedDict([('terminalId', 'NAEK406'), ('terminalNm', '북부오창')]), OrderedDict([('terminalId', 'NAEK407'), ('terminalNm', '청주공항')]), OrderedDict([('terminalId', 'NAEK408'), ('terminalNm', '속리산')]), OrderedDict([('terminalId', 'NAEK409'), ('terminalNm', '보은')]), OrderedDict([('terminalId', 'NAEK419'), ('terminalNm', '중앙탑면')]), OrderedDict([('terminalId', 'NAEK420'), ('terminalNm', '충주')]), OrderedDict([('terminalId', 'NAEK440'), ('terminalNm', '황간')]), OrderedDict([('terminalId', 'NAEK449'), ('terminalNm', '제천하소')]), OrderedDict([('terminalId', 'NAEK450'), ('terminalNm', '제천')]), OrderedDict([('terminalId', 'NAEK455'), ('terminalNm', '증평')]), OrderedDict([('terminalId', 'NAEK457'), ('terminalNm', '괴산')]), OrderedDict([('terminalId', 'NAEK477'), ('terminalNm', '죽전보정')]), OrderedDict([('terminalId', 'NAEK500'), ('terminalNm', '광주(유·스퀘어)')]), OrderedDict([('terminalId', 'NAEK503'), ('terminalNm', '광주비아')]), OrderedDict([('terminalId', 'NAEK505'), ('terminalNm', '목포')]), OrderedDict([('terminalId', 'NAEK509'), ('terminalNm', '여천')]), OrderedDict([('terminalId', 'NAEK510'), ('terminalNm', '여수')]), OrderedDict([('terminalId', 'NAEK513'), ('terminalNm', '순천신대지구')]), OrderedDict([('terminalId', 'NAEK515'), ('terminalNm', '순천')]), OrderedDict([('terminalId', 'NAEK519'), ('terminalNm', '구례')]), OrderedDict([('terminalId', 'NAEK520'), ('terminalNm', '광양')]), OrderedDict([('terminalId', 'NAEK525'), ('terminalNm', '동광양')]), OrderedDict([('terminalId', 'NAEK528'), ('terminalNm', '섬진강(휴)하행')]), OrderedDict([('terminalId', 'NAEK529'), ('terminalNm', '섬진강(휴)상행')]), OrderedDict([('terminalId', 'NAEK530'), ('terminalNm', '나주')]), OrderedDict([('terminalId', 'NAEK535'), ('terminalNm', '강진')]), OrderedDict([('terminalId', 'NAEK540'), ('terminalNm', '고흥')]), OrderedDict([('terminalId', 'NAEK545'), ('terminalNm', '녹동')]), OrderedDict([('terminalId', 'NAEK550'), ('terminalNm', '무안')]), OrderedDict([('terminalId', 'NAEK552'), ('terminalNm', '해제')]), OrderedDict([('terminalId', 'NAEK554'), ('terminalNm', '보성')]), OrderedDict([('terminalId', 'NAEK555'), ('terminalNm', '벌교')]), OrderedDict([('terminalId', 'NAEK560'), ('terminalNm', '영광')]), OrderedDict([('terminalId', 'NAEK565'), ('terminalNm', '영산포')]), OrderedDict([('terminalId', 'NAEK570'), ('terminalNm', '영암')]), OrderedDict([('terminalId', 'NAEK575'), ('terminalNm', '완도')]), OrderedDict([('terminalId', 'NAEK576'), ('terminalNm', '관산')]), OrderedDict([('terminalId', 'NAEK577'), ('terminalNm', '회진')]), OrderedDict([('terminalId', 'NAEK578'), ('terminalNm', '원동')]), OrderedDict([('terminalId', 'NAEK580'), ('terminalNm', '장흥')]), OrderedDict([('terminalId', 'NAEK581'), ('terminalNm', '함평')]), OrderedDict([('terminalId', 'NAEK582'), ('terminalNm', '담양')]), OrderedDict([('terminalId', 'NAEK583'), ('terminalNm', '장성')]), OrderedDict([('terminalId', 'NAEK584'), ('terminalNm', '문장')]), OrderedDict([('terminalId', 'NAEK585'), ('terminalNm', '지도')]), OrderedDict([('terminalId', 'NAEK586'), ('terminalNm', '화순')]), OrderedDict([('terminalId', 'NAEK587'), ('terminalNm', '능주')]), OrderedDict([('terminalId', 'NAEK588'), ('terminalNm', '옥과')]), OrderedDict([('terminalId', 'NAEK589'), ('terminalNm', '곡성')]), OrderedDict([('terminalId', 'NAEK590'), ('terminalNm', '진도')]), OrderedDict([('terminalId', 'NAEK592'), ('terminalNm', '남악')]), OrderedDict([('terminalId', 'NAEK593'), ('terminalNm', '임자대광')]), OrderedDict([('terminalId', 'NAEK594'), ('terminalNm', '임자진리')]), OrderedDict([('terminalId', 'NAEK595'), ('terminalNm', '해남')]), OrderedDict([('terminalId', 'NAEK602'), ('terminalNm', '전주')]), OrderedDict([('terminalId', 'NAEK605'), ('terminalNm', '전주호남제일문')]), OrderedDict([('terminalId', 'NAEK610'), ('terminalNm', '군산')]), OrderedDict([('terminalId', 'NAEK615'), ('terminalNm', '익산')]), OrderedDict([('terminalId', 'NAEK616'), ('terminalNm', '익산팔봉')]), OrderedDict([('terminalId', 'NAEK619'), ('terminalNm', '애통리')]), OrderedDict([('terminalId', 'NAEK620'), ('terminalNm', '김제')]), OrderedDict([('terminalId', 'NAEK621'), ('terminalNm', '전북혁신')]), OrderedDict([('terminalId', 'NAEK622'), ('terminalNm', '자치인재원')]), OrderedDict([('terminalId', 'NAEK625'), ('terminalNm', '남원')]), OrderedDict([('terminalId', 'NAEK626'), ('terminalNm', '덕과')]), OrderedDict([('terminalId', 'NAEK629'), ('terminalNm', '태인')]), OrderedDict([('terminalId', 'NAEK630'), ('terminalNm', '정읍')]), OrderedDict([('terminalId', 'NAEK634'), ('terminalNm', '흥덕')]), OrderedDict([('terminalId', 'NAEK635'), ('terminalNm', '고창')]), OrderedDict([('terminalId', 'NAEK640'), ('terminalNm', '부안')]), OrderedDict([('terminalId', 'NAEK644'), ('terminalNm', '전북강진')]), OrderedDict([('terminalId', 'NAEK645'), ('terminalNm', '순창')]), OrderedDict([('terminalId', 'NAEK649'), ('terminalNm', '봉동')]), OrderedDict([('terminalId', 'NAEK650'), ('terminalNm', '진안')]), OrderedDict([('terminalId', 'NAEK700'), ('terminalNm', '부산')]), OrderedDict([('terminalId', 'NAEK703'), ('terminalNm', '서부산(사상)')]), OrderedDict([('terminalId', 'NAEK704'), ('terminalNm', '진해')]), OrderedDict([('terminalId', 'NAEK705'), ('terminalNm', '마산')]), OrderedDict([('terminalId', 'NAEK706'), ('terminalNm', '내서')]), OrderedDict([('terminalId', 'NAEK710'), ('terminalNm', '창원')]), OrderedDict([('terminalId', 'NAEK711'), ('terminalNm', '창원역')]), OrderedDict([('terminalId', 'NAEK715'), ('terminalNm', '울산')]), OrderedDict([('terminalId', 'NAEK716'), ('terminalNm', '울산신복')]), OrderedDict([('terminalId', 'NAEK722'), ('terminalNm', '진주')]), OrderedDict([('terminalId', 'NAEK723'), ('terminalNm', '진주개양')]), OrderedDict([('terminalId', 'NAEK724'), ('terminalNm', '진주혁신')]), OrderedDict([('terminalId', 'NAEK730'), ('terminalNm', '통영')]), OrderedDict([('terminalId', 'NAEK735'), ('terminalNm', '김해')]), OrderedDict([('terminalId', 'NAEK736'), ('terminalNm', '김해장유')]), OrderedDict([('terminalId', 'NAEK801'), ('terminalNm', '동대구')]), OrderedDict([('terminalId', 'NAEK805'), ('terminalNm', '서대구')]), OrderedDict([('terminalId', 'NAEK807'), ('terminalNm', '대구용계')]), OrderedDict([('terminalId', 'NAEK810'), ('terminalNm', '구미')]), OrderedDict([('terminalId', 'NAEK812'), ('terminalNm', '선산(휴)하행')]), OrderedDict([('terminalId', 'NAEK813'), ('terminalNm', '선산(휴)상행')]), OrderedDict([('terminalId', 'NAEK815'), ('terminalNm', '경주')]), OrderedDict([('terminalId', 'NAEK820'), ('terminalNm', '김천')]), OrderedDict([('terminalId', 'NAEK823'), ('terminalNm', '낙동강(휴)하행')]), OrderedDict([('terminalId', 'NAEK824'), ('terminalNm', '낙동강(휴)상행')]), OrderedDict([('terminalId', 'NAEK825'), ('terminalNm', '상주')]), OrderedDict([('terminalId', 'NAEK828'), ('terminalNm', '포항시청')]), OrderedDict([('terminalId', 'NAEK830'), ('terminalNm', '포항')]), OrderedDict([('terminalId', 'NAEK834'), ('terminalNm', '풍기')]), OrderedDict([('terminalId', 'NAEK835'), ('terminalNm', '영주')]), OrderedDict([('terminalId', 'NAEK840'), ('terminalNm', '안동')]), OrderedDict([('terminalId', 'NAEK843'), ('terminalNm', '영덕')]), OrderedDict([('terminalId', 'NAEK845'), ('terminalNm', '영천')]), OrderedDict([('terminalId', 'NAEK846'), ('terminalNm', '영천망정')]), OrderedDict([('terminalId', 'NAEK850'), ('terminalNm', '점촌')]), OrderedDict([('terminalId', 'NAEK851'), ('terminalNm', '예천')]), OrderedDict([('terminalId', 'NAEK852'), ('terminalNm', '경북도청')]), OrderedDict([('terminalId', 'NAEK862'), ('terminalNm', '영주장수')]), OrderedDict([('terminalId', 'NAEK863'), ('terminalNm', '영주꽃동산')])])])), ('numOfRows', '1000'), ('pageNo', '1'), ('totalCount', '225')]))]))])\n"
          ],
          "name": "stdout"
        }
      ]
    },
    {
      "cell_type": "code",
      "metadata": {
        "id": "vWJlfKpD6ZLu"
      },
      "source": [
        "termIDs, termNms = [], []\n",
        "termIDtermNm = {}\n",
        "\n",
        "for terminal in dict['response']['body']['items']['item']:\n",
        "  termIDtermNm[terminal['terminalId']] = terminal['terminalNm']"
      ],
      "execution_count": 20,
      "outputs": []
    },
    {
      "cell_type": "code",
      "metadata": {
        "colab": {
          "base_uri": "https://localhost:8080/",
          "height": 225
        },
        "id": "l_SkZO5Q65t2",
        "outputId": "f11a22dd-397e-4fac-a386-cbf813af6513"
      },
      "source": [
        "df = pd.Series(termIDtermNm)\n",
        "display(df)\n",
        "df.to_csv('express_id_name.csv', index=True)"
      ],
      "execution_count": 38,
      "outputs": [
        {
          "output_type": "display_data",
          "data": {
            "text/plain": [
              "NAEK010         서울경부\n",
              "NAEK020    센트럴시티(서울)\n",
              "NAEK030          동서울\n",
              "NAEK032          동서울\n",
              "NAEK040           상봉\n",
              "             ...    \n",
              "NAEK850           점촌\n",
              "NAEK851           예천\n",
              "NAEK852         경북도청\n",
              "NAEK862         영주장수\n",
              "NAEK863        영주꽃동산\n",
              "Length: 225, dtype: object"
            ]
          },
          "metadata": {
            "tags": []
          }
        }
      ]
    }
  ]
}